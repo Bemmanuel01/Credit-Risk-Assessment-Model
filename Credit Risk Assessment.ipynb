{
 "cells": [
  {
   "cell_type": "markdown",
   "id": "1a0b6a26-4887-4649-9a21-1ae66a06f2e8",
   "metadata": {},
   "source": [
    "## CREDIT RISK ASSESSMENT"
   ]
  },
  {
   "cell_type": "markdown",
   "id": "9a89a2b8-9e6b-4d4b-b4a2-115d66807b0a",
   "metadata": {},
   "source": [
    "Introduction:\n",
    "A machine learning model to predict the probability of a borrower defaulting on a loan based on historical financial and borrower data.\n",
    "Accurate prediction of credit risk helps financial institutions make informed lending decisions, reduce default rates, and manage financial risk effectively."
   ]
  },
  {
   "cell_type": "markdown",
   "id": "5f88acf1-d4c4-4378-bee0-3ebed13f014e",
   "metadata": {},
   "source": [
    "**About Dataset**\n",
    "\n",
    "- Labels: \"Status\" Approved\" or \"Denied\n",
    "\n",
    "- Features:\n",
    "\n",
    "  - Duration: Time in months for the credit request or grant.\n",
    "  - Credit History: Historical credit behavior and reliability.\n",
    "  - Purpose: Intended use of the credit.\n",
    "  - Amount: Requested or granted credit amount.\n",
    "  - Savings: Level of applicant's savings or financial stability.\n",
    "  - Employment Duration: Time employed at current job.\n",
    "  - Installment Rate: Number of payments over time.\n",
    "  - Person Status: Marital or personal status of the applicant.\n",
    "  - Other Debtors: Presence of other debtors or co-applicants."
   ]
  },
  {
   "cell_type": "code",
   "execution_count": 2,
   "id": "a7610440-7e8d-4f25-ab3c-21829c6d2da9",
   "metadata": {},
   "outputs": [],
   "source": [
    "# Import dependencies\n",
    "\n",
    "import numpy as np\n",
    "import pandas as pd\n",
    "import matplotlib.pyplot as plt\n",
    "import seaborn as sns"
   ]
  },
  {
   "cell_type": "code",
   "execution_count": 13,
   "id": "2b915463-2a17-4610-9a8f-30c5d85628fe",
   "metadata": {},
   "outputs": [],
   "source": [
    "# Reading and exploring the dataset\n",
    "\n",
    "credit = pd.read_csv('credit_risk.csv')"
   ]
  },
  {
   "cell_type": "markdown",
   "id": "f4467a87-e37e-4968-bde6-6eb87ae4be5f",
   "metadata": {},
   "source": [
    "- Data Exploration"
   ]
  },
  {
   "cell_type": "code",
   "execution_count": 43,
   "id": "ecace93f-a9f0-4f6e-8c61-98fd5ab9777c",
   "metadata": {},
   "outputs": [
    {
     "data": {
      "text/html": [
       "<div>\n",
       "<style scoped>\n",
       "    .dataframe tbody tr th:only-of-type {\n",
       "        vertical-align: middle;\n",
       "    }\n",
       "\n",
       "    .dataframe tbody tr th {\n",
       "        vertical-align: top;\n",
       "    }\n",
       "\n",
       "    .dataframe thead th {\n",
       "        text-align: right;\n",
       "    }\n",
       "</style>\n",
       "<table border=\"1\" class=\"dataframe\">\n",
       "  <thead>\n",
       "    <tr style=\"text-align: right;\">\n",
       "      <th></th>\n",
       "      <th>status</th>\n",
       "      <th>duration</th>\n",
       "      <th>credit_history</th>\n",
       "      <th>purpose</th>\n",
       "      <th>amount</th>\n",
       "      <th>savings</th>\n",
       "      <th>employment_duration</th>\n",
       "      <th>installment_rate</th>\n",
       "      <th>personal_status_sex</th>\n",
       "      <th>other_debtors</th>\n",
       "      <th>...</th>\n",
       "      <th>property</th>\n",
       "      <th>age</th>\n",
       "      <th>other_installment_plans</th>\n",
       "      <th>housing</th>\n",
       "      <th>number_credits</th>\n",
       "      <th>job</th>\n",
       "      <th>people_liable</th>\n",
       "      <th>telephone</th>\n",
       "      <th>foreign_worker</th>\n",
       "      <th>credit_risk</th>\n",
       "    </tr>\n",
       "  </thead>\n",
       "  <tbody>\n",
       "    <tr>\n",
       "      <th>0</th>\n",
       "      <td>... &lt; 100 DM</td>\n",
       "      <td>6</td>\n",
       "      <td>critical account/other credits existing</td>\n",
       "      <td>domestic appliances</td>\n",
       "      <td>1169</td>\n",
       "      <td>unknown/no savings account</td>\n",
       "      <td>... &gt;= 7 years</td>\n",
       "      <td>4</td>\n",
       "      <td>male : single</td>\n",
       "      <td>none</td>\n",
       "      <td>...</td>\n",
       "      <td>real estate</td>\n",
       "      <td>67</td>\n",
       "      <td>none</td>\n",
       "      <td>own</td>\n",
       "      <td>2</td>\n",
       "      <td>skilled employee/official</td>\n",
       "      <td>1</td>\n",
       "      <td>yes</td>\n",
       "      <td>yes</td>\n",
       "      <td>1</td>\n",
       "    </tr>\n",
       "    <tr>\n",
       "      <th>1</th>\n",
       "      <td>0 &lt;= ... &lt; 200 DM</td>\n",
       "      <td>48</td>\n",
       "      <td>existing credits paid back duly till now</td>\n",
       "      <td>domestic appliances</td>\n",
       "      <td>5951</td>\n",
       "      <td>... &lt; 100 DM</td>\n",
       "      <td>1 &lt;= ... &lt; 4 years</td>\n",
       "      <td>2</td>\n",
       "      <td>female : divorced/separated/married</td>\n",
       "      <td>none</td>\n",
       "      <td>...</td>\n",
       "      <td>real estate</td>\n",
       "      <td>22</td>\n",
       "      <td>none</td>\n",
       "      <td>own</td>\n",
       "      <td>1</td>\n",
       "      <td>skilled employee/official</td>\n",
       "      <td>1</td>\n",
       "      <td>no</td>\n",
       "      <td>yes</td>\n",
       "      <td>0</td>\n",
       "    </tr>\n",
       "    <tr>\n",
       "      <th>2</th>\n",
       "      <td>no checking account</td>\n",
       "      <td>12</td>\n",
       "      <td>critical account/other credits existing</td>\n",
       "      <td>retraining</td>\n",
       "      <td>2096</td>\n",
       "      <td>... &lt; 100 DM</td>\n",
       "      <td>4 &lt;= ... &lt; 7 years</td>\n",
       "      <td>2</td>\n",
       "      <td>male : single</td>\n",
       "      <td>none</td>\n",
       "      <td>...</td>\n",
       "      <td>real estate</td>\n",
       "      <td>49</td>\n",
       "      <td>none</td>\n",
       "      <td>own</td>\n",
       "      <td>1</td>\n",
       "      <td>unskilled - resident</td>\n",
       "      <td>2</td>\n",
       "      <td>no</td>\n",
       "      <td>yes</td>\n",
       "      <td>1</td>\n",
       "    </tr>\n",
       "    <tr>\n",
       "      <th>3</th>\n",
       "      <td>... &lt; 100 DM</td>\n",
       "      <td>42</td>\n",
       "      <td>existing credits paid back duly till now</td>\n",
       "      <td>radio/television</td>\n",
       "      <td>7882</td>\n",
       "      <td>... &lt; 100 DM</td>\n",
       "      <td>4 &lt;= ... &lt; 7 years</td>\n",
       "      <td>2</td>\n",
       "      <td>male : single</td>\n",
       "      <td>guarantor</td>\n",
       "      <td>...</td>\n",
       "      <td>building society savings agreement/life insurance</td>\n",
       "      <td>45</td>\n",
       "      <td>none</td>\n",
       "      <td>for free</td>\n",
       "      <td>1</td>\n",
       "      <td>skilled employee/official</td>\n",
       "      <td>2</td>\n",
       "      <td>no</td>\n",
       "      <td>yes</td>\n",
       "      <td>1</td>\n",
       "    </tr>\n",
       "    <tr>\n",
       "      <th>4</th>\n",
       "      <td>... &lt; 100 DM</td>\n",
       "      <td>24</td>\n",
       "      <td>delay in paying off in the past</td>\n",
       "      <td>car (new)</td>\n",
       "      <td>4870</td>\n",
       "      <td>... &lt; 100 DM</td>\n",
       "      <td>1 &lt;= ... &lt; 4 years</td>\n",
       "      <td>3</td>\n",
       "      <td>male : single</td>\n",
       "      <td>none</td>\n",
       "      <td>...</td>\n",
       "      <td>unknown/no property</td>\n",
       "      <td>53</td>\n",
       "      <td>none</td>\n",
       "      <td>for free</td>\n",
       "      <td>2</td>\n",
       "      <td>skilled employee/official</td>\n",
       "      <td>2</td>\n",
       "      <td>no</td>\n",
       "      <td>yes</td>\n",
       "      <td>0</td>\n",
       "    </tr>\n",
       "  </tbody>\n",
       "</table>\n",
       "<p>5 rows × 21 columns</p>\n",
       "</div>"
      ],
      "text/plain": [
       "                status  duration                            credit_history  \\\n",
       "0         ... < 100 DM         6   critical account/other credits existing   \n",
       "1    0 <= ... < 200 DM        48  existing credits paid back duly till now   \n",
       "2  no checking account        12   critical account/other credits existing   \n",
       "3         ... < 100 DM        42  existing credits paid back duly till now   \n",
       "4         ... < 100 DM        24           delay in paying off in the past   \n",
       "\n",
       "               purpose  amount                     savings  \\\n",
       "0  domestic appliances    1169  unknown/no savings account   \n",
       "1  domestic appliances    5951                ... < 100 DM   \n",
       "2           retraining    2096                ... < 100 DM   \n",
       "3     radio/television    7882                ... < 100 DM   \n",
       "4            car (new)    4870                ... < 100 DM   \n",
       "\n",
       "  employment_duration  installment_rate                  personal_status_sex  \\\n",
       "0      ... >= 7 years                 4                        male : single   \n",
       "1  1 <= ... < 4 years                 2  female : divorced/separated/married   \n",
       "2  4 <= ... < 7 years                 2                        male : single   \n",
       "3  4 <= ... < 7 years                 2                        male : single   \n",
       "4  1 <= ... < 4 years                 3                        male : single   \n",
       "\n",
       "  other_debtors  ...                                           property age  \\\n",
       "0          none  ...                                        real estate  67   \n",
       "1          none  ...                                        real estate  22   \n",
       "2          none  ...                                        real estate  49   \n",
       "3     guarantor  ...  building society savings agreement/life insurance  45   \n",
       "4          none  ...                                unknown/no property  53   \n",
       "\n",
       "   other_installment_plans   housing number_credits  \\\n",
       "0                     none       own              2   \n",
       "1                     none       own              1   \n",
       "2                     none       own              1   \n",
       "3                     none  for free              1   \n",
       "4                     none  for free              2   \n",
       "\n",
       "                         job people_liable  telephone foreign_worker  \\\n",
       "0  skilled employee/official             1        yes            yes   \n",
       "1  skilled employee/official             1         no            yes   \n",
       "2       unskilled - resident             2         no            yes   \n",
       "3  skilled employee/official             2         no            yes   \n",
       "4  skilled employee/official             2         no            yes   \n",
       "\n",
       "  credit_risk  \n",
       "0           1  \n",
       "1           0  \n",
       "2           1  \n",
       "3           1  \n",
       "4           0  \n",
       "\n",
       "[5 rows x 21 columns]"
      ]
     },
     "execution_count": 43,
     "metadata": {},
     "output_type": "execute_result"
    }
   ],
   "source": [
    "credit.head()"
   ]
  },
  {
   "cell_type": "code",
   "execution_count": 44,
   "id": "13808e3e-966a-449b-9bbf-e66bfee9dbe2",
   "metadata": {},
   "outputs": [
    {
     "name": "stdout",
     "output_type": "stream",
     "text": [
      "<class 'pandas.core.frame.DataFrame'>\n",
      "RangeIndex: 1000 entries, 0 to 999\n",
      "Data columns (total 21 columns):\n",
      " #   Column                   Non-Null Count  Dtype \n",
      "---  ------                   --------------  ----- \n",
      " 0   status                   1000 non-null   object\n",
      " 1   duration                 1000 non-null   int64 \n",
      " 2   credit_history           1000 non-null   object\n",
      " 3   purpose                  1000 non-null   object\n",
      " 4   amount                   1000 non-null   int64 \n",
      " 5   savings                  1000 non-null   object\n",
      " 6   employment_duration      1000 non-null   object\n",
      " 7   installment_rate         1000 non-null   int64 \n",
      " 8   personal_status_sex      1000 non-null   object\n",
      " 9   other_debtors            1000 non-null   object\n",
      " 10  present_residence        1000 non-null   int64 \n",
      " 11  property                 1000 non-null   object\n",
      " 12  age                      1000 non-null   int64 \n",
      " 13  other_installment_plans  1000 non-null   object\n",
      " 14  housing                  1000 non-null   object\n",
      " 15  number_credits           1000 non-null   int64 \n",
      " 16  job                      1000 non-null   object\n",
      " 17  people_liable            1000 non-null   int64 \n",
      " 18  telephone                1000 non-null   object\n",
      " 19  foreign_worker           1000 non-null   object\n",
      " 20  credit_risk              1000 non-null   int64 \n",
      "dtypes: int64(8), object(13)\n",
      "memory usage: 164.2+ KB\n"
     ]
    }
   ],
   "source": [
    "# Checking for the dataset information\n",
    "credit.info()"
   ]
  },
  {
   "cell_type": "code",
   "execution_count": 45,
   "id": "6225ab0b-fe6b-4271-888d-780d87af9c76",
   "metadata": {},
   "outputs": [
    {
     "data": {
      "text/plain": [
       "status                     0\n",
       "duration                   0\n",
       "credit_history             0\n",
       "purpose                    0\n",
       "amount                     0\n",
       "savings                    0\n",
       "employment_duration        0\n",
       "installment_rate           0\n",
       "personal_status_sex        0\n",
       "other_debtors              0\n",
       "present_residence          0\n",
       "property                   0\n",
       "age                        0\n",
       "other_installment_plans    0\n",
       "housing                    0\n",
       "number_credits             0\n",
       "job                        0\n",
       "people_liable              0\n",
       "telephone                  0\n",
       "foreign_worker             0\n",
       "credit_risk                0\n",
       "dtype: int64"
      ]
     },
     "execution_count": 45,
     "metadata": {},
     "output_type": "execute_result"
    }
   ],
   "source": [
    "# Checking for NaN values\n",
    "credit.isnull().sum()"
   ]
  },
  {
   "cell_type": "code",
   "execution_count": 46,
   "id": "5a4eb34a-c104-41b0-aa74-a119bd77eb31",
   "metadata": {},
   "outputs": [
    {
     "data": {
      "text/html": [
       "<div>\n",
       "<style scoped>\n",
       "    .dataframe tbody tr th:only-of-type {\n",
       "        vertical-align: middle;\n",
       "    }\n",
       "\n",
       "    .dataframe tbody tr th {\n",
       "        vertical-align: top;\n",
       "    }\n",
       "\n",
       "    .dataframe thead th {\n",
       "        text-align: right;\n",
       "    }\n",
       "</style>\n",
       "<table border=\"1\" class=\"dataframe\">\n",
       "  <thead>\n",
       "    <tr style=\"text-align: right;\">\n",
       "      <th></th>\n",
       "      <th>duration</th>\n",
       "      <th>amount</th>\n",
       "      <th>installment_rate</th>\n",
       "      <th>present_residence</th>\n",
       "      <th>age</th>\n",
       "      <th>number_credits</th>\n",
       "      <th>people_liable</th>\n",
       "      <th>credit_risk</th>\n",
       "    </tr>\n",
       "  </thead>\n",
       "  <tbody>\n",
       "    <tr>\n",
       "      <th>count</th>\n",
       "      <td>1000.000000</td>\n",
       "      <td>1000.000000</td>\n",
       "      <td>1000.000000</td>\n",
       "      <td>1000.000000</td>\n",
       "      <td>1000.000000</td>\n",
       "      <td>1000.000000</td>\n",
       "      <td>1000.000000</td>\n",
       "      <td>1000.000000</td>\n",
       "    </tr>\n",
       "    <tr>\n",
       "      <th>mean</th>\n",
       "      <td>20.903000</td>\n",
       "      <td>3271.258000</td>\n",
       "      <td>2.973000</td>\n",
       "      <td>2.845000</td>\n",
       "      <td>35.546000</td>\n",
       "      <td>1.407000</td>\n",
       "      <td>1.155000</td>\n",
       "      <td>0.700000</td>\n",
       "    </tr>\n",
       "    <tr>\n",
       "      <th>std</th>\n",
       "      <td>12.058814</td>\n",
       "      <td>2822.736876</td>\n",
       "      <td>1.118715</td>\n",
       "      <td>1.103718</td>\n",
       "      <td>11.375469</td>\n",
       "      <td>0.577654</td>\n",
       "      <td>0.362086</td>\n",
       "      <td>0.458487</td>\n",
       "    </tr>\n",
       "    <tr>\n",
       "      <th>min</th>\n",
       "      <td>4.000000</td>\n",
       "      <td>250.000000</td>\n",
       "      <td>1.000000</td>\n",
       "      <td>1.000000</td>\n",
       "      <td>19.000000</td>\n",
       "      <td>1.000000</td>\n",
       "      <td>1.000000</td>\n",
       "      <td>0.000000</td>\n",
       "    </tr>\n",
       "    <tr>\n",
       "      <th>25%</th>\n",
       "      <td>12.000000</td>\n",
       "      <td>1365.500000</td>\n",
       "      <td>2.000000</td>\n",
       "      <td>2.000000</td>\n",
       "      <td>27.000000</td>\n",
       "      <td>1.000000</td>\n",
       "      <td>1.000000</td>\n",
       "      <td>0.000000</td>\n",
       "    </tr>\n",
       "    <tr>\n",
       "      <th>50%</th>\n",
       "      <td>18.000000</td>\n",
       "      <td>2319.500000</td>\n",
       "      <td>3.000000</td>\n",
       "      <td>3.000000</td>\n",
       "      <td>33.000000</td>\n",
       "      <td>1.000000</td>\n",
       "      <td>1.000000</td>\n",
       "      <td>1.000000</td>\n",
       "    </tr>\n",
       "    <tr>\n",
       "      <th>75%</th>\n",
       "      <td>24.000000</td>\n",
       "      <td>3972.250000</td>\n",
       "      <td>4.000000</td>\n",
       "      <td>4.000000</td>\n",
       "      <td>42.000000</td>\n",
       "      <td>2.000000</td>\n",
       "      <td>1.000000</td>\n",
       "      <td>1.000000</td>\n",
       "    </tr>\n",
       "    <tr>\n",
       "      <th>max</th>\n",
       "      <td>72.000000</td>\n",
       "      <td>18424.000000</td>\n",
       "      <td>4.000000</td>\n",
       "      <td>4.000000</td>\n",
       "      <td>75.000000</td>\n",
       "      <td>4.000000</td>\n",
       "      <td>2.000000</td>\n",
       "      <td>1.000000</td>\n",
       "    </tr>\n",
       "  </tbody>\n",
       "</table>\n",
       "</div>"
      ],
      "text/plain": [
       "          duration        amount  installment_rate  present_residence  \\\n",
       "count  1000.000000   1000.000000       1000.000000        1000.000000   \n",
       "mean     20.903000   3271.258000          2.973000           2.845000   \n",
       "std      12.058814   2822.736876          1.118715           1.103718   \n",
       "min       4.000000    250.000000          1.000000           1.000000   \n",
       "25%      12.000000   1365.500000          2.000000           2.000000   \n",
       "50%      18.000000   2319.500000          3.000000           3.000000   \n",
       "75%      24.000000   3972.250000          4.000000           4.000000   \n",
       "max      72.000000  18424.000000          4.000000           4.000000   \n",
       "\n",
       "               age  number_credits  people_liable  credit_risk  \n",
       "count  1000.000000     1000.000000    1000.000000  1000.000000  \n",
       "mean     35.546000        1.407000       1.155000     0.700000  \n",
       "std      11.375469        0.577654       0.362086     0.458487  \n",
       "min      19.000000        1.000000       1.000000     0.000000  \n",
       "25%      27.000000        1.000000       1.000000     0.000000  \n",
       "50%      33.000000        1.000000       1.000000     1.000000  \n",
       "75%      42.000000        2.000000       1.000000     1.000000  \n",
       "max      75.000000        4.000000       2.000000     1.000000  "
      ]
     },
     "execution_count": 46,
     "metadata": {},
     "output_type": "execute_result"
    }
   ],
   "source": [
    "# Checking for the statistical information\n",
    "credit.describe()"
   ]
  },
  {
   "cell_type": "code",
   "execution_count": 47,
   "id": "a30dd148-f940-4f72-8d65-4d3553d38c26",
   "metadata": {},
   "outputs": [
    {
     "data": {
      "text/plain": [
       "0"
      ]
     },
     "execution_count": 47,
     "metadata": {},
     "output_type": "execute_result"
    }
   ],
   "source": [
    "# Checking for duplicate values\n",
    "credit.duplicated().sum()"
   ]
  },
  {
   "cell_type": "code",
   "execution_count": 48,
   "id": "983cbd35-b180-47a4-b352-2e42ebde3830",
   "metadata": {},
   "outputs": [
    {
     "name": "stderr",
     "output_type": "stream",
     "text": [
      "C:\\Users\\BenJ\\AppData\\Local\\Temp\\ipykernel_2000\\1030843012.py:2: FutureWarning: The default value of numeric_only in DataFrame.corr is deprecated. In a future version, it will default to False. Select only valid columns or specify the value of numeric_only to silence this warning.\n",
      "  credit.corr()\n"
     ]
    },
    {
     "data": {
      "text/html": [
       "<div>\n",
       "<style scoped>\n",
       "    .dataframe tbody tr th:only-of-type {\n",
       "        vertical-align: middle;\n",
       "    }\n",
       "\n",
       "    .dataframe tbody tr th {\n",
       "        vertical-align: top;\n",
       "    }\n",
       "\n",
       "    .dataframe thead th {\n",
       "        text-align: right;\n",
       "    }\n",
       "</style>\n",
       "<table border=\"1\" class=\"dataframe\">\n",
       "  <thead>\n",
       "    <tr style=\"text-align: right;\">\n",
       "      <th></th>\n",
       "      <th>duration</th>\n",
       "      <th>amount</th>\n",
       "      <th>installment_rate</th>\n",
       "      <th>present_residence</th>\n",
       "      <th>age</th>\n",
       "      <th>number_credits</th>\n",
       "      <th>people_liable</th>\n",
       "      <th>credit_risk</th>\n",
       "    </tr>\n",
       "  </thead>\n",
       "  <tbody>\n",
       "    <tr>\n",
       "      <th>duration</th>\n",
       "      <td>1.000000</td>\n",
       "      <td>0.624984</td>\n",
       "      <td>0.074749</td>\n",
       "      <td>0.034067</td>\n",
       "      <td>-0.036136</td>\n",
       "      <td>-0.011284</td>\n",
       "      <td>-0.023834</td>\n",
       "      <td>-0.214927</td>\n",
       "    </tr>\n",
       "    <tr>\n",
       "      <th>amount</th>\n",
       "      <td>0.624984</td>\n",
       "      <td>1.000000</td>\n",
       "      <td>-0.271316</td>\n",
       "      <td>0.028926</td>\n",
       "      <td>0.032716</td>\n",
       "      <td>0.020795</td>\n",
       "      <td>0.017142</td>\n",
       "      <td>-0.154739</td>\n",
       "    </tr>\n",
       "    <tr>\n",
       "      <th>installment_rate</th>\n",
       "      <td>0.074749</td>\n",
       "      <td>-0.271316</td>\n",
       "      <td>1.000000</td>\n",
       "      <td>0.049302</td>\n",
       "      <td>0.058266</td>\n",
       "      <td>0.021669</td>\n",
       "      <td>-0.071207</td>\n",
       "      <td>-0.072404</td>\n",
       "    </tr>\n",
       "    <tr>\n",
       "      <th>present_residence</th>\n",
       "      <td>0.034067</td>\n",
       "      <td>0.028926</td>\n",
       "      <td>0.049302</td>\n",
       "      <td>1.000000</td>\n",
       "      <td>0.266419</td>\n",
       "      <td>0.089625</td>\n",
       "      <td>0.042643</td>\n",
       "      <td>-0.002967</td>\n",
       "    </tr>\n",
       "    <tr>\n",
       "      <th>age</th>\n",
       "      <td>-0.036136</td>\n",
       "      <td>0.032716</td>\n",
       "      <td>0.058266</td>\n",
       "      <td>0.266419</td>\n",
       "      <td>1.000000</td>\n",
       "      <td>0.149254</td>\n",
       "      <td>0.118201</td>\n",
       "      <td>0.091127</td>\n",
       "    </tr>\n",
       "    <tr>\n",
       "      <th>number_credits</th>\n",
       "      <td>-0.011284</td>\n",
       "      <td>0.020795</td>\n",
       "      <td>0.021669</td>\n",
       "      <td>0.089625</td>\n",
       "      <td>0.149254</td>\n",
       "      <td>1.000000</td>\n",
       "      <td>0.109667</td>\n",
       "      <td>0.045732</td>\n",
       "    </tr>\n",
       "    <tr>\n",
       "      <th>people_liable</th>\n",
       "      <td>-0.023834</td>\n",
       "      <td>0.017142</td>\n",
       "      <td>-0.071207</td>\n",
       "      <td>0.042643</td>\n",
       "      <td>0.118201</td>\n",
       "      <td>0.109667</td>\n",
       "      <td>1.000000</td>\n",
       "      <td>0.003015</td>\n",
       "    </tr>\n",
       "    <tr>\n",
       "      <th>credit_risk</th>\n",
       "      <td>-0.214927</td>\n",
       "      <td>-0.154739</td>\n",
       "      <td>-0.072404</td>\n",
       "      <td>-0.002967</td>\n",
       "      <td>0.091127</td>\n",
       "      <td>0.045732</td>\n",
       "      <td>0.003015</td>\n",
       "      <td>1.000000</td>\n",
       "    </tr>\n",
       "  </tbody>\n",
       "</table>\n",
       "</div>"
      ],
      "text/plain": [
       "                   duration    amount  installment_rate  present_residence  \\\n",
       "duration           1.000000  0.624984          0.074749           0.034067   \n",
       "amount             0.624984  1.000000         -0.271316           0.028926   \n",
       "installment_rate   0.074749 -0.271316          1.000000           0.049302   \n",
       "present_residence  0.034067  0.028926          0.049302           1.000000   \n",
       "age               -0.036136  0.032716          0.058266           0.266419   \n",
       "number_credits    -0.011284  0.020795          0.021669           0.089625   \n",
       "people_liable     -0.023834  0.017142         -0.071207           0.042643   \n",
       "credit_risk       -0.214927 -0.154739         -0.072404          -0.002967   \n",
       "\n",
       "                        age  number_credits  people_liable  credit_risk  \n",
       "duration          -0.036136       -0.011284      -0.023834    -0.214927  \n",
       "amount             0.032716        0.020795       0.017142    -0.154739  \n",
       "installment_rate   0.058266        0.021669      -0.071207    -0.072404  \n",
       "present_residence  0.266419        0.089625       0.042643    -0.002967  \n",
       "age                1.000000        0.149254       0.118201     0.091127  \n",
       "number_credits     0.149254        1.000000       0.109667     0.045732  \n",
       "people_liable      0.118201        0.109667       1.000000     0.003015  \n",
       "credit_risk        0.091127        0.045732       0.003015     1.000000  "
      ]
     },
     "execution_count": 48,
     "metadata": {},
     "output_type": "execute_result"
    }
   ],
   "source": [
    "# Checking for the feature corrlation \n",
    "credit.corr()"
   ]
  },
  {
   "cell_type": "code",
   "execution_count": 49,
   "id": "00666579-db64-436c-8e1e-551d3d04d889",
   "metadata": {},
   "outputs": [
    {
     "data": {
      "text/plain": [
       "['status',\n",
       " 'duration',\n",
       " 'credit_history',\n",
       " 'purpose',\n",
       " 'amount',\n",
       " 'savings',\n",
       " 'employment_duration',\n",
       " 'installment_rate',\n",
       " 'personal_status_sex',\n",
       " 'other_debtors',\n",
       " 'present_residence',\n",
       " 'property',\n",
       " 'age',\n",
       " 'other_installment_plans',\n",
       " 'housing',\n",
       " 'number_credits',\n",
       " 'job',\n",
       " 'people_liable',\n",
       " 'telephone',\n",
       " 'foreign_worker',\n",
       " 'credit_risk']"
      ]
     },
     "execution_count": 49,
     "metadata": {},
     "output_type": "execute_result"
    }
   ],
   "source": [
    "# Checking for the list of the features\n",
    "list(credit.columns)"
   ]
  },
  {
   "cell_type": "code",
   "execution_count": 34,
   "id": "6209f3d5-c5a8-41b9-8ff3-4037ef46f120",
   "metadata": {},
   "outputs": [],
   "source": [
    "# credit['credit_risk']"
   ]
  },
  {
   "cell_type": "markdown",
   "id": "8b840e6b-d656-4b62-a8a5-4b8b63195946",
   "metadata": {},
   "source": [
    "- Seperating the dataset into dependent and independent variables"
   ]
  },
  {
   "cell_type": "code",
   "execution_count": 50,
   "id": "bf7c89b4-c649-4920-8f69-c8ebf4dfd3fa",
   "metadata": {},
   "outputs": [],
   "source": [
    "X = credit.drop('credit_risk', axis = 1)"
   ]
  },
  {
   "cell_type": "code",
   "execution_count": 51,
   "id": "7591a43a-d571-4bbb-b1f5-df37a38252a6",
   "metadata": {},
   "outputs": [],
   "source": [
    "y = credit['credit_risk']"
   ]
  },
  {
   "cell_type": "code",
   "execution_count": 52,
   "id": "4872ff93-fbda-4edb-95d3-f52ae45acc29",
   "metadata": {},
   "outputs": [
    {
     "data": {
      "text/html": [
       "<div>\n",
       "<style scoped>\n",
       "    .dataframe tbody tr th:only-of-type {\n",
       "        vertical-align: middle;\n",
       "    }\n",
       "\n",
       "    .dataframe tbody tr th {\n",
       "        vertical-align: top;\n",
       "    }\n",
       "\n",
       "    .dataframe thead th {\n",
       "        text-align: right;\n",
       "    }\n",
       "</style>\n",
       "<table border=\"1\" class=\"dataframe\">\n",
       "  <thead>\n",
       "    <tr style=\"text-align: right;\">\n",
       "      <th></th>\n",
       "      <th>status</th>\n",
       "      <th>duration</th>\n",
       "      <th>credit_history</th>\n",
       "      <th>purpose</th>\n",
       "      <th>amount</th>\n",
       "      <th>savings</th>\n",
       "      <th>employment_duration</th>\n",
       "      <th>installment_rate</th>\n",
       "      <th>personal_status_sex</th>\n",
       "      <th>other_debtors</th>\n",
       "      <th>present_residence</th>\n",
       "      <th>property</th>\n",
       "      <th>age</th>\n",
       "      <th>other_installment_plans</th>\n",
       "      <th>housing</th>\n",
       "      <th>number_credits</th>\n",
       "      <th>job</th>\n",
       "      <th>people_liable</th>\n",
       "      <th>telephone</th>\n",
       "      <th>foreign_worker</th>\n",
       "    </tr>\n",
       "  </thead>\n",
       "  <tbody>\n",
       "    <tr>\n",
       "      <th>0</th>\n",
       "      <td>... &lt; 100 DM</td>\n",
       "      <td>6</td>\n",
       "      <td>critical account/other credits existing</td>\n",
       "      <td>domestic appliances</td>\n",
       "      <td>1169</td>\n",
       "      <td>unknown/no savings account</td>\n",
       "      <td>... &gt;= 7 years</td>\n",
       "      <td>4</td>\n",
       "      <td>male : single</td>\n",
       "      <td>none</td>\n",
       "      <td>4</td>\n",
       "      <td>real estate</td>\n",
       "      <td>67</td>\n",
       "      <td>none</td>\n",
       "      <td>own</td>\n",
       "      <td>2</td>\n",
       "      <td>skilled employee/official</td>\n",
       "      <td>1</td>\n",
       "      <td>yes</td>\n",
       "      <td>yes</td>\n",
       "    </tr>\n",
       "    <tr>\n",
       "      <th>1</th>\n",
       "      <td>0 &lt;= ... &lt; 200 DM</td>\n",
       "      <td>48</td>\n",
       "      <td>existing credits paid back duly till now</td>\n",
       "      <td>domestic appliances</td>\n",
       "      <td>5951</td>\n",
       "      <td>... &lt; 100 DM</td>\n",
       "      <td>1 &lt;= ... &lt; 4 years</td>\n",
       "      <td>2</td>\n",
       "      <td>female : divorced/separated/married</td>\n",
       "      <td>none</td>\n",
       "      <td>2</td>\n",
       "      <td>real estate</td>\n",
       "      <td>22</td>\n",
       "      <td>none</td>\n",
       "      <td>own</td>\n",
       "      <td>1</td>\n",
       "      <td>skilled employee/official</td>\n",
       "      <td>1</td>\n",
       "      <td>no</td>\n",
       "      <td>yes</td>\n",
       "    </tr>\n",
       "    <tr>\n",
       "      <th>2</th>\n",
       "      <td>no checking account</td>\n",
       "      <td>12</td>\n",
       "      <td>critical account/other credits existing</td>\n",
       "      <td>retraining</td>\n",
       "      <td>2096</td>\n",
       "      <td>... &lt; 100 DM</td>\n",
       "      <td>4 &lt;= ... &lt; 7 years</td>\n",
       "      <td>2</td>\n",
       "      <td>male : single</td>\n",
       "      <td>none</td>\n",
       "      <td>3</td>\n",
       "      <td>real estate</td>\n",
       "      <td>49</td>\n",
       "      <td>none</td>\n",
       "      <td>own</td>\n",
       "      <td>1</td>\n",
       "      <td>unskilled - resident</td>\n",
       "      <td>2</td>\n",
       "      <td>no</td>\n",
       "      <td>yes</td>\n",
       "    </tr>\n",
       "    <tr>\n",
       "      <th>3</th>\n",
       "      <td>... &lt; 100 DM</td>\n",
       "      <td>42</td>\n",
       "      <td>existing credits paid back duly till now</td>\n",
       "      <td>radio/television</td>\n",
       "      <td>7882</td>\n",
       "      <td>... &lt; 100 DM</td>\n",
       "      <td>4 &lt;= ... &lt; 7 years</td>\n",
       "      <td>2</td>\n",
       "      <td>male : single</td>\n",
       "      <td>guarantor</td>\n",
       "      <td>4</td>\n",
       "      <td>building society savings agreement/life insurance</td>\n",
       "      <td>45</td>\n",
       "      <td>none</td>\n",
       "      <td>for free</td>\n",
       "      <td>1</td>\n",
       "      <td>skilled employee/official</td>\n",
       "      <td>2</td>\n",
       "      <td>no</td>\n",
       "      <td>yes</td>\n",
       "    </tr>\n",
       "    <tr>\n",
       "      <th>4</th>\n",
       "      <td>... &lt; 100 DM</td>\n",
       "      <td>24</td>\n",
       "      <td>delay in paying off in the past</td>\n",
       "      <td>car (new)</td>\n",
       "      <td>4870</td>\n",
       "      <td>... &lt; 100 DM</td>\n",
       "      <td>1 &lt;= ... &lt; 4 years</td>\n",
       "      <td>3</td>\n",
       "      <td>male : single</td>\n",
       "      <td>none</td>\n",
       "      <td>4</td>\n",
       "      <td>unknown/no property</td>\n",
       "      <td>53</td>\n",
       "      <td>none</td>\n",
       "      <td>for free</td>\n",
       "      <td>2</td>\n",
       "      <td>skilled employee/official</td>\n",
       "      <td>2</td>\n",
       "      <td>no</td>\n",
       "      <td>yes</td>\n",
       "    </tr>\n",
       "  </tbody>\n",
       "</table>\n",
       "</div>"
      ],
      "text/plain": [
       "                status  duration                            credit_history  \\\n",
       "0         ... < 100 DM         6   critical account/other credits existing   \n",
       "1    0 <= ... < 200 DM        48  existing credits paid back duly till now   \n",
       "2  no checking account        12   critical account/other credits existing   \n",
       "3         ... < 100 DM        42  existing credits paid back duly till now   \n",
       "4         ... < 100 DM        24           delay in paying off in the past   \n",
       "\n",
       "               purpose  amount                     savings  \\\n",
       "0  domestic appliances    1169  unknown/no savings account   \n",
       "1  domestic appliances    5951                ... < 100 DM   \n",
       "2           retraining    2096                ... < 100 DM   \n",
       "3     radio/television    7882                ... < 100 DM   \n",
       "4            car (new)    4870                ... < 100 DM   \n",
       "\n",
       "  employment_duration  installment_rate                  personal_status_sex  \\\n",
       "0      ... >= 7 years                 4                        male : single   \n",
       "1  1 <= ... < 4 years                 2  female : divorced/separated/married   \n",
       "2  4 <= ... < 7 years                 2                        male : single   \n",
       "3  4 <= ... < 7 years                 2                        male : single   \n",
       "4  1 <= ... < 4 years                 3                        male : single   \n",
       "\n",
       "  other_debtors  present_residence  \\\n",
       "0          none                  4   \n",
       "1          none                  2   \n",
       "2          none                  3   \n",
       "3     guarantor                  4   \n",
       "4          none                  4   \n",
       "\n",
       "                                            property  age  \\\n",
       "0                                        real estate   67   \n",
       "1                                        real estate   22   \n",
       "2                                        real estate   49   \n",
       "3  building society savings agreement/life insurance   45   \n",
       "4                                unknown/no property   53   \n",
       "\n",
       "  other_installment_plans   housing  number_credits  \\\n",
       "0                    none       own               2   \n",
       "1                    none       own               1   \n",
       "2                    none       own               1   \n",
       "3                    none  for free               1   \n",
       "4                    none  for free               2   \n",
       "\n",
       "                         job  people_liable telephone foreign_worker  \n",
       "0  skilled employee/official              1       yes            yes  \n",
       "1  skilled employee/official              1        no            yes  \n",
       "2       unskilled - resident              2        no            yes  \n",
       "3  skilled employee/official              2        no            yes  \n",
       "4  skilled employee/official              2        no            yes  "
      ]
     },
     "execution_count": 52,
     "metadata": {},
     "output_type": "execute_result"
    }
   ],
   "source": [
    "X.head()"
   ]
  },
  {
   "cell_type": "code",
   "execution_count": 53,
   "id": "32385f3e-0999-48da-8654-bceeb681105b",
   "metadata": {},
   "outputs": [
    {
     "data": {
      "text/plain": [
       "0    1\n",
       "1    0\n",
       "2    1\n",
       "3    1\n",
       "4    0\n",
       "Name: credit_risk, dtype: int64"
      ]
     },
     "execution_count": 53,
     "metadata": {},
     "output_type": "execute_result"
    }
   ],
   "source": [
    "y.head()"
   ]
  },
  {
   "cell_type": "code",
   "execution_count": 79,
   "id": "a7875168-532f-4e65-8d3b-e9c1a514bcb9",
   "metadata": {},
   "outputs": [],
   "source": [
    "# Splitting the data into Training and Testing Dataset\n",
    "\n",
    "from sklearn.model_selection import train_test_split"
   ]
  },
  {
   "cell_type": "code",
   "execution_count": 80,
   "id": "dcd95180-3155-4629-b4ab-62034230d865",
   "metadata": {},
   "outputs": [],
   "source": [
    "X_train, X_test, y_train, y_test = train_test_split(X, y, test_size = 0.3, random_state = 42)"
   ]
  },
  {
   "cell_type": "markdown",
   "id": "66bd66f8-b787-4f3f-b02e-48f524d2da73",
   "metadata": {},
   "source": [
    "- Preprocessing for numerical and categorical features."
   ]
  },
  {
   "cell_type": "code",
   "execution_count": 81,
   "id": "f5fa1c8f-76cd-4f32-908a-0ae6b8b9aedc",
   "metadata": {},
   "outputs": [
    {
     "data": {
      "text/plain": [
       "Index(['status', 'duration', 'credit_history', 'purpose', 'amount', 'savings',\n",
       "       'employment_duration', 'installment_rate', 'personal_status_sex',\n",
       "       'other_debtors', 'present_residence', 'property', 'age',\n",
       "       'other_installment_plans', 'housing', 'number_credits', 'job',\n",
       "       'people_liable', 'telephone', 'foreign_worker', 'credit_risk'],\n",
       "      dtype='object')"
      ]
     },
     "execution_count": 81,
     "metadata": {},
     "output_type": "execute_result"
    }
   ],
   "source": [
    "credit.columns"
   ]
  },
  {
   "cell_type": "code",
   "execution_count": 82,
   "id": "d22eeb64-c48f-40d5-8341-dbfb95657c29",
   "metadata": {},
   "outputs": [],
   "source": [
    "numeric_features = ['duration', 'amount', 'installment_rate', 'age', 'present_residence','number_credits', 'people_liable']\n",
    "\n",
    "categorical_features = ['status','credit_history','purpose', 'savings','employment_duration','personal_status_sex','other_debtors','property','other_installment_plans','housing','telephone', 'foreign_worker'] "
   ]
  },
  {
   "cell_type": "markdown",
   "id": "b6aeec2d-43b4-4f74-93f9-1bc0e8fbce23",
   "metadata": {},
   "source": [
    "- Feature Transformation"
   ]
  },
  {
   "cell_type": "code",
   "execution_count": 83,
   "id": "6cee244c-9ec9-4d27-a762-6e5766ae4898",
   "metadata": {},
   "outputs": [],
   "source": [
    "from sklearn.preprocessing import StandardScaler, OneHotEncoder\n",
    "from sklearn.compose import ColumnTransformer\n",
    "from sklearn.linear_model import LogisticRegression"
   ]
  },
  {
   "cell_type": "code",
   "execution_count": 85,
   "id": "cd90f544-00bb-478a-81a9-e2dc411cb2dc",
   "metadata": {},
   "outputs": [],
   "source": [
    "numerical_transformer = StandardScaler()"
   ]
  },
  {
   "cell_type": "code",
   "execution_count": 86,
   "id": "86bbe9c0-ed70-4e82-8afb-b117de08ec58",
   "metadata": {},
   "outputs": [],
   "source": [
    "categorical_transformer = OneHotEncoder(handle_unknown = 'ignore')"
   ]
  },
  {
   "cell_type": "code",
   "execution_count": 87,
   "id": "183c8b59-56c3-48c0-943a-5c3be9a06ba1",
   "metadata": {},
   "outputs": [],
   "source": [
    "# Combine Transformer into a Preprocessor\n",
    "\n",
    "preprocessor = ColumnTransformer(transformers = [('num', numerical_transformer, numeric_features),\n",
    "                                                 ('cat', categorical_transformer, categorical_features)])"
   ]
  },
  {
   "cell_type": "code",
   "execution_count": 88,
   "id": "b688ec28-9d84-43f6-98e3-66e738fb9bff",
   "metadata": {},
   "outputs": [],
   "source": [
    "# Creating a Pipiline that includes preprocessor and the model\n",
    "\n",
    "from sklearn.pipeline import Pipeline"
   ]
  },
  {
   "cell_type": "code",
   "execution_count": 89,
   "id": "e0adcd24-5ca5-417f-bbb2-04bb3641895b",
   "metadata": {},
   "outputs": [],
   "source": [
    "model = Pipeline(steps = [('preprocessor', preprocessor),\n",
    "                         ('classifier', LogisticRegression(max_iter = 1000))])"
   ]
  },
  {
   "cell_type": "code",
   "execution_count": 90,
   "id": "18179516-9e21-4b94-858a-3fbf027442a1",
   "metadata": {},
   "outputs": [
    {
     "data": {
      "text/html": [
       "<style>#sk-container-id-1 {color: black;background-color: white;}#sk-container-id-1 pre{padding: 0;}#sk-container-id-1 div.sk-toggleable {background-color: white;}#sk-container-id-1 label.sk-toggleable__label {cursor: pointer;display: block;width: 100%;margin-bottom: 0;padding: 0.3em;box-sizing: border-box;text-align: center;}#sk-container-id-1 label.sk-toggleable__label-arrow:before {content: \"▸\";float: left;margin-right: 0.25em;color: #696969;}#sk-container-id-1 label.sk-toggleable__label-arrow:hover:before {color: black;}#sk-container-id-1 div.sk-estimator:hover label.sk-toggleable__label-arrow:before {color: black;}#sk-container-id-1 div.sk-toggleable__content {max-height: 0;max-width: 0;overflow: hidden;text-align: left;background-color: #f0f8ff;}#sk-container-id-1 div.sk-toggleable__content pre {margin: 0.2em;color: black;border-radius: 0.25em;background-color: #f0f8ff;}#sk-container-id-1 input.sk-toggleable__control:checked~div.sk-toggleable__content {max-height: 200px;max-width: 100%;overflow: auto;}#sk-container-id-1 input.sk-toggleable__control:checked~label.sk-toggleable__label-arrow:before {content: \"▾\";}#sk-container-id-1 div.sk-estimator input.sk-toggleable__control:checked~label.sk-toggleable__label {background-color: #d4ebff;}#sk-container-id-1 div.sk-label input.sk-toggleable__control:checked~label.sk-toggleable__label {background-color: #d4ebff;}#sk-container-id-1 input.sk-hidden--visually {border: 0;clip: rect(1px 1px 1px 1px);clip: rect(1px, 1px, 1px, 1px);height: 1px;margin: -1px;overflow: hidden;padding: 0;position: absolute;width: 1px;}#sk-container-id-1 div.sk-estimator {font-family: monospace;background-color: #f0f8ff;border: 1px dotted black;border-radius: 0.25em;box-sizing: border-box;margin-bottom: 0.5em;}#sk-container-id-1 div.sk-estimator:hover {background-color: #d4ebff;}#sk-container-id-1 div.sk-parallel-item::after {content: \"\";width: 100%;border-bottom: 1px solid gray;flex-grow: 1;}#sk-container-id-1 div.sk-label:hover label.sk-toggleable__label {background-color: #d4ebff;}#sk-container-id-1 div.sk-serial::before {content: \"\";position: absolute;border-left: 1px solid gray;box-sizing: border-box;top: 0;bottom: 0;left: 50%;z-index: 0;}#sk-container-id-1 div.sk-serial {display: flex;flex-direction: column;align-items: center;background-color: white;padding-right: 0.2em;padding-left: 0.2em;position: relative;}#sk-container-id-1 div.sk-item {position: relative;z-index: 1;}#sk-container-id-1 div.sk-parallel {display: flex;align-items: stretch;justify-content: center;background-color: white;position: relative;}#sk-container-id-1 div.sk-item::before, #sk-container-id-1 div.sk-parallel-item::before {content: \"\";position: absolute;border-left: 1px solid gray;box-sizing: border-box;top: 0;bottom: 0;left: 50%;z-index: -1;}#sk-container-id-1 div.sk-parallel-item {display: flex;flex-direction: column;z-index: 1;position: relative;background-color: white;}#sk-container-id-1 div.sk-parallel-item:first-child::after {align-self: flex-end;width: 50%;}#sk-container-id-1 div.sk-parallel-item:last-child::after {align-self: flex-start;width: 50%;}#sk-container-id-1 div.sk-parallel-item:only-child::after {width: 0;}#sk-container-id-1 div.sk-dashed-wrapped {border: 1px dashed gray;margin: 0 0.4em 0.5em 0.4em;box-sizing: border-box;padding-bottom: 0.4em;background-color: white;}#sk-container-id-1 div.sk-label label {font-family: monospace;font-weight: bold;display: inline-block;line-height: 1.2em;}#sk-container-id-1 div.sk-label-container {text-align: center;}#sk-container-id-1 div.sk-container {/* jupyter's `normalize.less` sets `[hidden] { display: none; }` but bootstrap.min.css set `[hidden] { display: none !important; }` so we also need the `!important` here to be able to override the default hidden behavior on the sphinx rendered scikit-learn.org. See: https://github.com/scikit-learn/scikit-learn/issues/21755 */display: inline-block !important;position: relative;}#sk-container-id-1 div.sk-text-repr-fallback {display: none;}</style><div id=\"sk-container-id-1\" class=\"sk-top-container\"><div class=\"sk-text-repr-fallback\"><pre>Pipeline(steps=[(&#x27;preprocessor&#x27;,\n",
       "                 ColumnTransformer(transformers=[(&#x27;num&#x27;, StandardScaler(),\n",
       "                                                  [&#x27;duration&#x27;, &#x27;amount&#x27;,\n",
       "                                                   &#x27;installment_rate&#x27;, &#x27;age&#x27;,\n",
       "                                                   &#x27;present_residence&#x27;,\n",
       "                                                   &#x27;number_credits&#x27;,\n",
       "                                                   &#x27;people_liable&#x27;]),\n",
       "                                                 (&#x27;cat&#x27;,\n",
       "                                                  OneHotEncoder(handle_unknown=&#x27;ignore&#x27;),\n",
       "                                                  [&#x27;status&#x27;, &#x27;credit_history&#x27;,\n",
       "                                                   &#x27;purpose&#x27;, &#x27;savings&#x27;,\n",
       "                                                   &#x27;employment_duration&#x27;,\n",
       "                                                   &#x27;personal_status_sex&#x27;,\n",
       "                                                   &#x27;other_debtors&#x27;, &#x27;property&#x27;,\n",
       "                                                   &#x27;other_installment_plans&#x27;,\n",
       "                                                   &#x27;housing&#x27;, &#x27;telephone&#x27;,\n",
       "                                                   &#x27;foreign_worker&#x27;])])),\n",
       "                (&#x27;classifier&#x27;, LogisticRegression(max_iter=1000))])</pre><b>In a Jupyter environment, please rerun this cell to show the HTML representation or trust the notebook. <br />On GitHub, the HTML representation is unable to render, please try loading this page with nbviewer.org.</b></div><div class=\"sk-container\" hidden><div class=\"sk-item sk-dashed-wrapped\"><div class=\"sk-label-container\"><div class=\"sk-label sk-toggleable\"><input class=\"sk-toggleable__control sk-hidden--visually\" id=\"sk-estimator-id-1\" type=\"checkbox\" ><label for=\"sk-estimator-id-1\" class=\"sk-toggleable__label sk-toggleable__label-arrow\">Pipeline</label><div class=\"sk-toggleable__content\"><pre>Pipeline(steps=[(&#x27;preprocessor&#x27;,\n",
       "                 ColumnTransformer(transformers=[(&#x27;num&#x27;, StandardScaler(),\n",
       "                                                  [&#x27;duration&#x27;, &#x27;amount&#x27;,\n",
       "                                                   &#x27;installment_rate&#x27;, &#x27;age&#x27;,\n",
       "                                                   &#x27;present_residence&#x27;,\n",
       "                                                   &#x27;number_credits&#x27;,\n",
       "                                                   &#x27;people_liable&#x27;]),\n",
       "                                                 (&#x27;cat&#x27;,\n",
       "                                                  OneHotEncoder(handle_unknown=&#x27;ignore&#x27;),\n",
       "                                                  [&#x27;status&#x27;, &#x27;credit_history&#x27;,\n",
       "                                                   &#x27;purpose&#x27;, &#x27;savings&#x27;,\n",
       "                                                   &#x27;employment_duration&#x27;,\n",
       "                                                   &#x27;personal_status_sex&#x27;,\n",
       "                                                   &#x27;other_debtors&#x27;, &#x27;property&#x27;,\n",
       "                                                   &#x27;other_installment_plans&#x27;,\n",
       "                                                   &#x27;housing&#x27;, &#x27;telephone&#x27;,\n",
       "                                                   &#x27;foreign_worker&#x27;])])),\n",
       "                (&#x27;classifier&#x27;, LogisticRegression(max_iter=1000))])</pre></div></div></div><div class=\"sk-serial\"><div class=\"sk-item sk-dashed-wrapped\"><div class=\"sk-label-container\"><div class=\"sk-label sk-toggleable\"><input class=\"sk-toggleable__control sk-hidden--visually\" id=\"sk-estimator-id-2\" type=\"checkbox\" ><label for=\"sk-estimator-id-2\" class=\"sk-toggleable__label sk-toggleable__label-arrow\">preprocessor: ColumnTransformer</label><div class=\"sk-toggleable__content\"><pre>ColumnTransformer(transformers=[(&#x27;num&#x27;, StandardScaler(),\n",
       "                                 [&#x27;duration&#x27;, &#x27;amount&#x27;, &#x27;installment_rate&#x27;,\n",
       "                                  &#x27;age&#x27;, &#x27;present_residence&#x27;, &#x27;number_credits&#x27;,\n",
       "                                  &#x27;people_liable&#x27;]),\n",
       "                                (&#x27;cat&#x27;, OneHotEncoder(handle_unknown=&#x27;ignore&#x27;),\n",
       "                                 [&#x27;status&#x27;, &#x27;credit_history&#x27;, &#x27;purpose&#x27;,\n",
       "                                  &#x27;savings&#x27;, &#x27;employment_duration&#x27;,\n",
       "                                  &#x27;personal_status_sex&#x27;, &#x27;other_debtors&#x27;,\n",
       "                                  &#x27;property&#x27;, &#x27;other_installment_plans&#x27;,\n",
       "                                  &#x27;housing&#x27;, &#x27;telephone&#x27;, &#x27;foreign_worker&#x27;])])</pre></div></div></div><div class=\"sk-parallel\"><div class=\"sk-parallel-item\"><div class=\"sk-item\"><div class=\"sk-label-container\"><div class=\"sk-label sk-toggleable\"><input class=\"sk-toggleable__control sk-hidden--visually\" id=\"sk-estimator-id-3\" type=\"checkbox\" ><label for=\"sk-estimator-id-3\" class=\"sk-toggleable__label sk-toggleable__label-arrow\">num</label><div class=\"sk-toggleable__content\"><pre>[&#x27;duration&#x27;, &#x27;amount&#x27;, &#x27;installment_rate&#x27;, &#x27;age&#x27;, &#x27;present_residence&#x27;, &#x27;number_credits&#x27;, &#x27;people_liable&#x27;]</pre></div></div></div><div class=\"sk-serial\"><div class=\"sk-item\"><div class=\"sk-estimator sk-toggleable\"><input class=\"sk-toggleable__control sk-hidden--visually\" id=\"sk-estimator-id-4\" type=\"checkbox\" ><label for=\"sk-estimator-id-4\" class=\"sk-toggleable__label sk-toggleable__label-arrow\">StandardScaler</label><div class=\"sk-toggleable__content\"><pre>StandardScaler()</pre></div></div></div></div></div></div><div class=\"sk-parallel-item\"><div class=\"sk-item\"><div class=\"sk-label-container\"><div class=\"sk-label sk-toggleable\"><input class=\"sk-toggleable__control sk-hidden--visually\" id=\"sk-estimator-id-5\" type=\"checkbox\" ><label for=\"sk-estimator-id-5\" class=\"sk-toggleable__label sk-toggleable__label-arrow\">cat</label><div class=\"sk-toggleable__content\"><pre>[&#x27;status&#x27;, &#x27;credit_history&#x27;, &#x27;purpose&#x27;, &#x27;savings&#x27;, &#x27;employment_duration&#x27;, &#x27;personal_status_sex&#x27;, &#x27;other_debtors&#x27;, &#x27;property&#x27;, &#x27;other_installment_plans&#x27;, &#x27;housing&#x27;, &#x27;telephone&#x27;, &#x27;foreign_worker&#x27;]</pre></div></div></div><div class=\"sk-serial\"><div class=\"sk-item\"><div class=\"sk-estimator sk-toggleable\"><input class=\"sk-toggleable__control sk-hidden--visually\" id=\"sk-estimator-id-6\" type=\"checkbox\" ><label for=\"sk-estimator-id-6\" class=\"sk-toggleable__label sk-toggleable__label-arrow\">OneHotEncoder</label><div class=\"sk-toggleable__content\"><pre>OneHotEncoder(handle_unknown=&#x27;ignore&#x27;)</pre></div></div></div></div></div></div></div></div><div class=\"sk-item\"><div class=\"sk-estimator sk-toggleable\"><input class=\"sk-toggleable__control sk-hidden--visually\" id=\"sk-estimator-id-7\" type=\"checkbox\" ><label for=\"sk-estimator-id-7\" class=\"sk-toggleable__label sk-toggleable__label-arrow\">LogisticRegression</label><div class=\"sk-toggleable__content\"><pre>LogisticRegression(max_iter=1000)</pre></div></div></div></div></div></div></div>"
      ],
      "text/plain": [
       "Pipeline(steps=[('preprocessor',\n",
       "                 ColumnTransformer(transformers=[('num', StandardScaler(),\n",
       "                                                  ['duration', 'amount',\n",
       "                                                   'installment_rate', 'age',\n",
       "                                                   'present_residence',\n",
       "                                                   'number_credits',\n",
       "                                                   'people_liable']),\n",
       "                                                 ('cat',\n",
       "                                                  OneHotEncoder(handle_unknown='ignore'),\n",
       "                                                  ['status', 'credit_history',\n",
       "                                                   'purpose', 'savings',\n",
       "                                                   'employment_duration',\n",
       "                                                   'personal_status_sex',\n",
       "                                                   'other_debtors', 'property',\n",
       "                                                   'other_installment_plans',\n",
       "                                                   'housing', 'telephone',\n",
       "                                                   'foreign_worker'])])),\n",
       "                ('classifier', LogisticRegression(max_iter=1000))])"
      ]
     },
     "execution_count": 90,
     "metadata": {},
     "output_type": "execute_result"
    }
   ],
   "source": [
    "# Model fitting\n",
    "\n",
    "model.fit(X_train, y_train)"
   ]
  },
  {
   "cell_type": "markdown",
   "id": "02579e81-eb36-4cb4-9510-d09b0542cf21",
   "metadata": {},
   "source": [
    "- Model Evaluation"
   ]
  },
  {
   "cell_type": "code",
   "execution_count": 91,
   "id": "f8c0f797-691a-4bfb-a09a-21075c967eb8",
   "metadata": {},
   "outputs": [],
   "source": [
    "from sklearn.metrics import classification_report, confusion_matrix, roc_auc_score"
   ]
  },
  {
   "cell_type": "code",
   "execution_count": 92,
   "id": "35efe41b-6af6-4389-b4e8-1cc22f3bfab3",
   "metadata": {},
   "outputs": [],
   "source": [
    "credit_prediction = model.predict(X_test)"
   ]
  },
  {
   "cell_type": "code",
   "execution_count": 94,
   "id": "e6d993d5-eaf5-4f38-83da-71c952e927cb",
   "metadata": {},
   "outputs": [],
   "source": [
    "# credit_prediction"
   ]
  },
  {
   "cell_type": "code",
   "execution_count": 106,
   "id": "62930704-aa1e-4410-8f27-1fc02b50bc14",
   "metadata": {},
   "outputs": [
    {
     "name": "stdout",
     "output_type": "stream",
     "text": [
      "\n",
      "The Classifcation Report of the Model: \n",
      "              precision    recall  f1-score   support\n",
      "\n",
      "           0       0.68      0.48      0.56        91\n",
      "           1       0.80      0.90      0.85       209\n",
      "\n",
      "    accuracy                           0.77       300\n",
      "   macro avg       0.74      0.69      0.71       300\n",
      "weighted avg       0.76      0.77      0.76       300\n",
      "\n"
     ]
    }
   ],
   "source": [
    "print('\\nThe Classifcation Report of the Model: ')\n",
    "print(classification_report(y_test, credit_prediction))"
   ]
  },
  {
   "cell_type": "code",
   "execution_count": 108,
   "id": "85ac73fc-65fc-4228-a187-24a1ba5b7e5d",
   "metadata": {},
   "outputs": [
    {
     "name": "stdout",
     "output_type": "stream",
     "text": [
      "Confusion Matrix: \n"
     ]
    },
    {
     "data": {
      "text/plain": [
       "array([[ 44,  47],\n",
       "       [ 21, 188]], dtype=int64)"
      ]
     },
     "execution_count": 108,
     "metadata": {},
     "output_type": "execute_result"
    }
   ],
   "source": [
    "print('Confusion Matrix: ')\n",
    "confusion_matrix(y_test, credit_prediction)"
   ]
  },
  {
   "cell_type": "code",
   "execution_count": 109,
   "id": "04fd1005-7728-488e-b860-519051365b20",
   "metadata": {},
   "outputs": [
    {
     "name": "stdout",
     "output_type": "stream",
     "text": [
      "\n",
      "ROC AUC Score:\n",
      "0.8172353961827646\n"
     ]
    }
   ],
   "source": [
    "print(\"\\nROC AUC Score:\")\n",
    "print(roc_auc_score(y_test, model.predict_proba(X_test)[:, 1]))"
   ]
  },
  {
   "cell_type": "markdown",
   "id": "9fc97749-43ab-4055-bb51-c8d175bcddb5",
   "metadata": {},
   "source": [
    "- Feature Importance and Interpretation"
   ]
  },
  {
   "cell_type": "code",
   "execution_count": 111,
   "id": "31749aec-991a-49ae-9d9b-cdf1008d07a0",
   "metadata": {},
   "outputs": [],
   "source": [
    "# Extracting the feature names from the OneHotEncoder\n",
    "\n",
    "feature_names = (numeric_features + list(model.named_steps['preprocessor'].named_transformers_['cat'].get_feature_names_out()))"
   ]
  },
  {
   "cell_type": "code",
   "execution_count": 113,
   "id": "2a775b6b-3b9d-46d1-98db-8a0ca5d931d3",
   "metadata": {},
   "outputs": [],
   "source": [
    "# Getting the Coefficients\n",
    "\n",
    "coefficients = model.named_steps['classifier'].coef_.flatten()"
   ]
  },
  {
   "cell_type": "code",
   "execution_count": 115,
   "id": "6ef26007-dc0e-4921-b22f-dfaf8c85e38a",
   "metadata": {},
   "outputs": [],
   "source": [
    "# Creating a DataFrame for Feature Importance\n",
    "\n",
    "feature_importance = pd.DataFrame({'Feaure': feature_names, 'Coefficient': coefficients}).sort_values(by = 'Coefficient', ascending = False)"
   ]
  },
  {
   "cell_type": "markdown",
   "id": "c60d20f6-5fde-4634-ac77-043f86dabaed",
   "metadata": {},
   "source": [
    "- Model Deployment"
   ]
  },
  {
   "cell_type": "code",
   "execution_count": 116,
   "id": "28bb737f-2b0c-40ef-b363-063f88adb4d1",
   "metadata": {},
   "outputs": [],
   "source": [
    "import joblib"
   ]
  },
  {
   "cell_type": "code",
   "execution_count": 117,
   "id": "674e66e2-6456-4d89-9d40-5bd7f813b2c0",
   "metadata": {},
   "outputs": [
    {
     "data": {
      "text/plain": [
       "['credit_risk_model.pkl']"
      ]
     },
     "execution_count": 117,
     "metadata": {},
     "output_type": "execute_result"
    }
   ],
   "source": [
    "# Save the model\n",
    "\n",
    "joblib.dump(model, 'credit_risk_model.pkl')"
   ]
  },
  {
   "cell_type": "code",
   "execution_count": 118,
   "id": "ed0d00f8-e17a-4dd1-ae8f-ccebb3888efb",
   "metadata": {},
   "outputs": [],
   "source": [
    "# Load the model (for future use)\n",
    "\n",
    "loaded_model = joblib.load('credit_risk_model.pkl')"
   ]
  },
  {
   "cell_type": "code",
   "execution_count": 119,
   "id": "67d7d565-041e-4f9b-afd5-1de3d83d324a",
   "metadata": {},
   "outputs": [
    {
     "data": {
      "text/html": [
       "<style>#sk-container-id-2 {color: black;background-color: white;}#sk-container-id-2 pre{padding: 0;}#sk-container-id-2 div.sk-toggleable {background-color: white;}#sk-container-id-2 label.sk-toggleable__label {cursor: pointer;display: block;width: 100%;margin-bottom: 0;padding: 0.3em;box-sizing: border-box;text-align: center;}#sk-container-id-2 label.sk-toggleable__label-arrow:before {content: \"▸\";float: left;margin-right: 0.25em;color: #696969;}#sk-container-id-2 label.sk-toggleable__label-arrow:hover:before {color: black;}#sk-container-id-2 div.sk-estimator:hover label.sk-toggleable__label-arrow:before {color: black;}#sk-container-id-2 div.sk-toggleable__content {max-height: 0;max-width: 0;overflow: hidden;text-align: left;background-color: #f0f8ff;}#sk-container-id-2 div.sk-toggleable__content pre {margin: 0.2em;color: black;border-radius: 0.25em;background-color: #f0f8ff;}#sk-container-id-2 input.sk-toggleable__control:checked~div.sk-toggleable__content {max-height: 200px;max-width: 100%;overflow: auto;}#sk-container-id-2 input.sk-toggleable__control:checked~label.sk-toggleable__label-arrow:before {content: \"▾\";}#sk-container-id-2 div.sk-estimator input.sk-toggleable__control:checked~label.sk-toggleable__label {background-color: #d4ebff;}#sk-container-id-2 div.sk-label input.sk-toggleable__control:checked~label.sk-toggleable__label {background-color: #d4ebff;}#sk-container-id-2 input.sk-hidden--visually {border: 0;clip: rect(1px 1px 1px 1px);clip: rect(1px, 1px, 1px, 1px);height: 1px;margin: -1px;overflow: hidden;padding: 0;position: absolute;width: 1px;}#sk-container-id-2 div.sk-estimator {font-family: monospace;background-color: #f0f8ff;border: 1px dotted black;border-radius: 0.25em;box-sizing: border-box;margin-bottom: 0.5em;}#sk-container-id-2 div.sk-estimator:hover {background-color: #d4ebff;}#sk-container-id-2 div.sk-parallel-item::after {content: \"\";width: 100%;border-bottom: 1px solid gray;flex-grow: 1;}#sk-container-id-2 div.sk-label:hover label.sk-toggleable__label {background-color: #d4ebff;}#sk-container-id-2 div.sk-serial::before {content: \"\";position: absolute;border-left: 1px solid gray;box-sizing: border-box;top: 0;bottom: 0;left: 50%;z-index: 0;}#sk-container-id-2 div.sk-serial {display: flex;flex-direction: column;align-items: center;background-color: white;padding-right: 0.2em;padding-left: 0.2em;position: relative;}#sk-container-id-2 div.sk-item {position: relative;z-index: 1;}#sk-container-id-2 div.sk-parallel {display: flex;align-items: stretch;justify-content: center;background-color: white;position: relative;}#sk-container-id-2 div.sk-item::before, #sk-container-id-2 div.sk-parallel-item::before {content: \"\";position: absolute;border-left: 1px solid gray;box-sizing: border-box;top: 0;bottom: 0;left: 50%;z-index: -1;}#sk-container-id-2 div.sk-parallel-item {display: flex;flex-direction: column;z-index: 1;position: relative;background-color: white;}#sk-container-id-2 div.sk-parallel-item:first-child::after {align-self: flex-end;width: 50%;}#sk-container-id-2 div.sk-parallel-item:last-child::after {align-self: flex-start;width: 50%;}#sk-container-id-2 div.sk-parallel-item:only-child::after {width: 0;}#sk-container-id-2 div.sk-dashed-wrapped {border: 1px dashed gray;margin: 0 0.4em 0.5em 0.4em;box-sizing: border-box;padding-bottom: 0.4em;background-color: white;}#sk-container-id-2 div.sk-label label {font-family: monospace;font-weight: bold;display: inline-block;line-height: 1.2em;}#sk-container-id-2 div.sk-label-container {text-align: center;}#sk-container-id-2 div.sk-container {/* jupyter's `normalize.less` sets `[hidden] { display: none; }` but bootstrap.min.css set `[hidden] { display: none !important; }` so we also need the `!important` here to be able to override the default hidden behavior on the sphinx rendered scikit-learn.org. See: https://github.com/scikit-learn/scikit-learn/issues/21755 */display: inline-block !important;position: relative;}#sk-container-id-2 div.sk-text-repr-fallback {display: none;}</style><div id=\"sk-container-id-2\" class=\"sk-top-container\"><div class=\"sk-text-repr-fallback\"><pre>Pipeline(steps=[(&#x27;preprocessor&#x27;,\n",
       "                 ColumnTransformer(transformers=[(&#x27;num&#x27;, StandardScaler(),\n",
       "                                                  [&#x27;duration&#x27;, &#x27;amount&#x27;,\n",
       "                                                   &#x27;installment_rate&#x27;, &#x27;age&#x27;,\n",
       "                                                   &#x27;present_residence&#x27;,\n",
       "                                                   &#x27;number_credits&#x27;,\n",
       "                                                   &#x27;people_liable&#x27;]),\n",
       "                                                 (&#x27;cat&#x27;,\n",
       "                                                  OneHotEncoder(handle_unknown=&#x27;ignore&#x27;),\n",
       "                                                  [&#x27;status&#x27;, &#x27;credit_history&#x27;,\n",
       "                                                   &#x27;purpose&#x27;, &#x27;savings&#x27;,\n",
       "                                                   &#x27;employment_duration&#x27;,\n",
       "                                                   &#x27;personal_status_sex&#x27;,\n",
       "                                                   &#x27;other_debtors&#x27;, &#x27;property&#x27;,\n",
       "                                                   &#x27;other_installment_plans&#x27;,\n",
       "                                                   &#x27;housing&#x27;, &#x27;telephone&#x27;,\n",
       "                                                   &#x27;foreign_worker&#x27;])])),\n",
       "                (&#x27;classifier&#x27;, LogisticRegression(max_iter=1000))])</pre><b>In a Jupyter environment, please rerun this cell to show the HTML representation or trust the notebook. <br />On GitHub, the HTML representation is unable to render, please try loading this page with nbviewer.org.</b></div><div class=\"sk-container\" hidden><div class=\"sk-item sk-dashed-wrapped\"><div class=\"sk-label-container\"><div class=\"sk-label sk-toggleable\"><input class=\"sk-toggleable__control sk-hidden--visually\" id=\"sk-estimator-id-8\" type=\"checkbox\" ><label for=\"sk-estimator-id-8\" class=\"sk-toggleable__label sk-toggleable__label-arrow\">Pipeline</label><div class=\"sk-toggleable__content\"><pre>Pipeline(steps=[(&#x27;preprocessor&#x27;,\n",
       "                 ColumnTransformer(transformers=[(&#x27;num&#x27;, StandardScaler(),\n",
       "                                                  [&#x27;duration&#x27;, &#x27;amount&#x27;,\n",
       "                                                   &#x27;installment_rate&#x27;, &#x27;age&#x27;,\n",
       "                                                   &#x27;present_residence&#x27;,\n",
       "                                                   &#x27;number_credits&#x27;,\n",
       "                                                   &#x27;people_liable&#x27;]),\n",
       "                                                 (&#x27;cat&#x27;,\n",
       "                                                  OneHotEncoder(handle_unknown=&#x27;ignore&#x27;),\n",
       "                                                  [&#x27;status&#x27;, &#x27;credit_history&#x27;,\n",
       "                                                   &#x27;purpose&#x27;, &#x27;savings&#x27;,\n",
       "                                                   &#x27;employment_duration&#x27;,\n",
       "                                                   &#x27;personal_status_sex&#x27;,\n",
       "                                                   &#x27;other_debtors&#x27;, &#x27;property&#x27;,\n",
       "                                                   &#x27;other_installment_plans&#x27;,\n",
       "                                                   &#x27;housing&#x27;, &#x27;telephone&#x27;,\n",
       "                                                   &#x27;foreign_worker&#x27;])])),\n",
       "                (&#x27;classifier&#x27;, LogisticRegression(max_iter=1000))])</pre></div></div></div><div class=\"sk-serial\"><div class=\"sk-item sk-dashed-wrapped\"><div class=\"sk-label-container\"><div class=\"sk-label sk-toggleable\"><input class=\"sk-toggleable__control sk-hidden--visually\" id=\"sk-estimator-id-9\" type=\"checkbox\" ><label for=\"sk-estimator-id-9\" class=\"sk-toggleable__label sk-toggleable__label-arrow\">preprocessor: ColumnTransformer</label><div class=\"sk-toggleable__content\"><pre>ColumnTransformer(transformers=[(&#x27;num&#x27;, StandardScaler(),\n",
       "                                 [&#x27;duration&#x27;, &#x27;amount&#x27;, &#x27;installment_rate&#x27;,\n",
       "                                  &#x27;age&#x27;, &#x27;present_residence&#x27;, &#x27;number_credits&#x27;,\n",
       "                                  &#x27;people_liable&#x27;]),\n",
       "                                (&#x27;cat&#x27;, OneHotEncoder(handle_unknown=&#x27;ignore&#x27;),\n",
       "                                 [&#x27;status&#x27;, &#x27;credit_history&#x27;, &#x27;purpose&#x27;,\n",
       "                                  &#x27;savings&#x27;, &#x27;employment_duration&#x27;,\n",
       "                                  &#x27;personal_status_sex&#x27;, &#x27;other_debtors&#x27;,\n",
       "                                  &#x27;property&#x27;, &#x27;other_installment_plans&#x27;,\n",
       "                                  &#x27;housing&#x27;, &#x27;telephone&#x27;, &#x27;foreign_worker&#x27;])])</pre></div></div></div><div class=\"sk-parallel\"><div class=\"sk-parallel-item\"><div class=\"sk-item\"><div class=\"sk-label-container\"><div class=\"sk-label sk-toggleable\"><input class=\"sk-toggleable__control sk-hidden--visually\" id=\"sk-estimator-id-10\" type=\"checkbox\" ><label for=\"sk-estimator-id-10\" class=\"sk-toggleable__label sk-toggleable__label-arrow\">num</label><div class=\"sk-toggleable__content\"><pre>[&#x27;duration&#x27;, &#x27;amount&#x27;, &#x27;installment_rate&#x27;, &#x27;age&#x27;, &#x27;present_residence&#x27;, &#x27;number_credits&#x27;, &#x27;people_liable&#x27;]</pre></div></div></div><div class=\"sk-serial\"><div class=\"sk-item\"><div class=\"sk-estimator sk-toggleable\"><input class=\"sk-toggleable__control sk-hidden--visually\" id=\"sk-estimator-id-11\" type=\"checkbox\" ><label for=\"sk-estimator-id-11\" class=\"sk-toggleable__label sk-toggleable__label-arrow\">StandardScaler</label><div class=\"sk-toggleable__content\"><pre>StandardScaler()</pre></div></div></div></div></div></div><div class=\"sk-parallel-item\"><div class=\"sk-item\"><div class=\"sk-label-container\"><div class=\"sk-label sk-toggleable\"><input class=\"sk-toggleable__control sk-hidden--visually\" id=\"sk-estimator-id-12\" type=\"checkbox\" ><label for=\"sk-estimator-id-12\" class=\"sk-toggleable__label sk-toggleable__label-arrow\">cat</label><div class=\"sk-toggleable__content\"><pre>[&#x27;status&#x27;, &#x27;credit_history&#x27;, &#x27;purpose&#x27;, &#x27;savings&#x27;, &#x27;employment_duration&#x27;, &#x27;personal_status_sex&#x27;, &#x27;other_debtors&#x27;, &#x27;property&#x27;, &#x27;other_installment_plans&#x27;, &#x27;housing&#x27;, &#x27;telephone&#x27;, &#x27;foreign_worker&#x27;]</pre></div></div></div><div class=\"sk-serial\"><div class=\"sk-item\"><div class=\"sk-estimator sk-toggleable\"><input class=\"sk-toggleable__control sk-hidden--visually\" id=\"sk-estimator-id-13\" type=\"checkbox\" ><label for=\"sk-estimator-id-13\" class=\"sk-toggleable__label sk-toggleable__label-arrow\">OneHotEncoder</label><div class=\"sk-toggleable__content\"><pre>OneHotEncoder(handle_unknown=&#x27;ignore&#x27;)</pre></div></div></div></div></div></div></div></div><div class=\"sk-item\"><div class=\"sk-estimator sk-toggleable\"><input class=\"sk-toggleable__control sk-hidden--visually\" id=\"sk-estimator-id-14\" type=\"checkbox\" ><label for=\"sk-estimator-id-14\" class=\"sk-toggleable__label sk-toggleable__label-arrow\">LogisticRegression</label><div class=\"sk-toggleable__content\"><pre>LogisticRegression(max_iter=1000)</pre></div></div></div></div></div></div></div>"
      ],
      "text/plain": [
       "Pipeline(steps=[('preprocessor',\n",
       "                 ColumnTransformer(transformers=[('num', StandardScaler(),\n",
       "                                                  ['duration', 'amount',\n",
       "                                                   'installment_rate', 'age',\n",
       "                                                   'present_residence',\n",
       "                                                   'number_credits',\n",
       "                                                   'people_liable']),\n",
       "                                                 ('cat',\n",
       "                                                  OneHotEncoder(handle_unknown='ignore'),\n",
       "                                                  ['status', 'credit_history',\n",
       "                                                   'purpose', 'savings',\n",
       "                                                   'employment_duration',\n",
       "                                                   'personal_status_sex',\n",
       "                                                   'other_debtors', 'property',\n",
       "                                                   'other_installment_plans',\n",
       "                                                   'housing', 'telephone',\n",
       "                                                   'foreign_worker'])])),\n",
       "                ('classifier', LogisticRegression(max_iter=1000))])"
      ]
     },
     "execution_count": 119,
     "metadata": {},
     "output_type": "execute_result"
    }
   ],
   "source": [
    "loaded_model"
   ]
  },
  {
   "cell_type": "code",
   "execution_count": null,
   "id": "baf50a2a-8156-4d81-a1e4-8bb5180e425e",
   "metadata": {},
   "outputs": [],
   "source": [
    "preprocesso"
   ]
  }
 ],
 "metadata": {
  "kernelspec": {
   "display_name": "Python 3 (ipykernel)",
   "language": "python",
   "name": "python3"
  },
  "language_info": {
   "codemirror_mode": {
    "name": "ipython",
    "version": 3
   },
   "file_extension": ".py",
   "mimetype": "text/x-python",
   "name": "python",
   "nbconvert_exporter": "python",
   "pygments_lexer": "ipython3",
   "version": "3.11.8"
  }
 },
 "nbformat": 4,
 "nbformat_minor": 5
}
